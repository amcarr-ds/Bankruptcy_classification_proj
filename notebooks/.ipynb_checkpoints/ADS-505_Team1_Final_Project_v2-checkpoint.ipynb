{
 "cells": [
  {
   "cell_type": "markdown",
   "id": "046e3582-7489-440d-91af-35f79e1110fc",
   "metadata": {},
   "source": [
    "# 505-01-FA22 {-}\n",
    "# Team 1 {-}\n",
    "# Final Project {-}"
   ]
  },
  {
   "cell_type": "markdown",
   "id": "8ffcff2a-45d7-481d-aa3f-3f382529375b",
   "metadata": {},
   "source": [
    "# Bankruptcy {-}"
   ]
  },
  {
   "cell_type": "markdown",
   "id": "38228701-3ed9-4102-b81b-07aed8496f5c",
   "metadata": {},
   "source": [
    "## https://archive.ics.uci.edu/ml/datasets/Polish+companies+bankruptcy+data {-}"
   ]
  },
  {
   "cell_type": "markdown",
   "id": "22009ae9-3ca5-4504-a04b-98417230c1cd",
   "metadata": {},
   "source": [
    "|Original Feature Name                                                                                                    |Changed To   |New Feature Name                        |\n",
    "|-------------------------------------------------------------------------------------------------------------------------|-------------|----------------------------------------|\n",
    "|X1 net profit / total assets                                                                                             |-->          |net_prof_to_tot_assets_ratio            |\n",
    "|X2 total liabilities / total assets                                                                                      |-->          |tot_liab_to_tot_assets_ratio            |\n",
    "|X3 working capital / total assets                                                                                        |-->          |work_cap_to_tot_assets_ratio            |\n",
    "|X4 current assets / short-term liabilities                                                                               |-->          |curr_assets_to_st_liab_ratio            |\n",
    "|X5 [(cash + short-term securities + receivables - short-term liabilities) / (operating expenses - depreciation)] * 365   |-->          |equ_to_ann_ops_exp_ratio                |\n",
    "|X6 retained earnings / total assets                                                                                      |-->          |ret_earn_to_tot_assets_ratio            |\n",
    "|X7 EBIT / total assets                                                                                                   |-->          |ebit_to_tot_assets_ratio                |\n",
    "|X8 book value of equity / total liabilities                                                                              |-->          |book_equ_to_tot_liab_ratio              |\n",
    "|X9 sales / total assets                                                                                                  |-->          |sales_to_tot_assets_ratio               |\n",
    "|X10 equity / total assets                                                                                                |-->          |equ_to_tot_assets_ratio                 |\n",
    "|X11 (gross profit + extraordinary items + financial expenses) / total assets                                             |-->          |mod_ef_grss_prof_to_tot_assets_ratio    |\n",
    "|X12 gross profit / short-term liabilities                                                                                |-->          |grss_prof_to_st_liab_ratio              |\n",
    "|X13 (gross profit + depreciation) / sales                                                                                |-->          |mod_dep_grss_prof_to_sales_ratio        |\n",
    "|X14 (gross profit + interest) / total assets                                                                             |-->          |mod_int_grss_prof_to_tot_assets_ratio   |\n",
    "|X15 (total liabilities * 365) / (gross profit + depreciation)                                                            |-->          |ann_tot_liab_to_mod_grss_prof_ratio     |\n",
    "|X16 (gross profit + depreciation) / total liabilities                                                                    |-->          |mod_dep_grss_prof_to_tot_liab_ratio     |\n",
    "|X17 total assets / total liabilities                                                                                     |-->          |tot_assets_to_tot_liab_ratio            |\n",
    "|X18 gross profit / total assets                                                                                          |-->          |grss_prof_to_tot_assets_ratio           |\n",
    "|X19 gross profit / sales                                                                                                 |-->          |grss_prof_to_sales_ratio                |\n",
    "|X20 (inventory * 365) / sales                                                                                            |-->          |ann_inven_to_sales_ratio                |\n",
    "|X21 sales (n) / sales (n-1)                                                                                              |-->          |sales_to_mod_sales_ratio                |\n",
    "|X22 profit on operating activities / total assets                                                                        |-->          |ops_prof_to_tot_assets_ratio            |\n",
    "|X23 net profit / sales                                                                                                   |-->          |net_prof_to_sales_ratio                 |\n",
    "|X24 gross profit (in 3 years) / total assets                                                                             |-->          |grss_prof3_to_tot_assets_ratio          |\n",
    "|X25 (equity - share capital) / total assets                                                                              |-->          |mod_equ_to_tot_assets_ratio             |\n",
    "|X26 (net profit + depreciation) / total liabilities                                                                      |-->          |mod_dep_net_prof_to_tot_liab_ratio      |\n",
    "|X27 profit on operating activities / financial expenses                                                                  |-->          |ops_prof_to_fin_exp_ratio               |\n",
    "|X28 working capital / fixed assets                                                                                       |-->          |work_cap_to_fx_assets_ratio             |\n",
    "|X29 logarithm of total assets                                                                                            |-->          |tot_assets_log                          |\n",
    "|X30 (total liabilities - cash) / sales                                                                                   |-->          |mod_csh_tot_liab_to_sales_ratio         |\n",
    "|X31 (gross profit + interest) / sales                                                                                    |-->          |mod_int_grss_prof_to_sales_ratio        |\n",
    "|X32 (current liabilities * 365) / cost of products sold                                                                  |-->          |ann_curr_liab_to_cops_ratio             |\n",
    "|X33 operating expenses / short-term liabilities                                                                          |-->          |ops_exp_to_st_liab_ratio                |\n",
    "|X34 operating expenses / total liabilities                                                                               |-->          |ops_exp_to_tot_liab_ratio               |\n",
    "|X35 profit on sales / total assets                                                                                       |-->          |sales_prof_to_tot_assets_ratio          |\n",
    "|X36 total sales / total assets                                                                                           |-->          |tot_sales_to_tot_assets_ratio           |\n",
    "|X37 (current assets - inventories) / long-term liabilities                                                               |-->          |mod_curr_assets_to_lt_liab_ratio        |\n",
    "|X38 constant capital / total assets                                                                                      |-->          |co_cap_to_tot_assets_ratio              |\n",
    "|X39 profit on sales / sales                                                                                              |-->          |sales_prof_to_sales_ratio               |\n",
    "|X40 (current assets - inventory - receivables) / short-term liabilities                                                  |-->          |mod_ir_curr_assets_to_st_liab_ratio     |\n",
    "|X41 total liabilities / ((profit on operating activities + depreciation) * (12/365))                                     |-->          |tot_liab_to_mth_mod_ops_prof            |\n",
    "|X42 profit on operating activities / sales                                                                               |-->          |ops_prof_to_sales_ratio                 |\n",
    "|X43 rotation receivables + inventory turnover in days                                                                    |-->          |mod_rot_receiv                          |\n",
    "|X44 (receivables * 365) / sales                                                                                          |-->          |ann_receiv_to_sales_ratio               |\n",
    "|X45 net profit / inventory                                                                                               |-->          |net_prof_to_inven_ratio                 |\n",
    "|X46 (current assets - inventory) / short-term liabilities                                                                |-->          |mod_iven_curr_assets_to_st_liab_ratio   |\n",
    "|X47 (inventory * 365) / cost of products sold                                                                            |-->          |ann_inven_to_cops_ratio                 |\n",
    "|X48 EBITDA (profit on operating activities - depreciation) / total assets                                                |-->          |ebitda_to_tot_assets_ratio              |\n",
    "|X49 EBITDA (profit on operating activities - depreciation) / sales                                                       |-->          |ebitda_to_tot_sales_ratio               |\n",
    "|X50 current assets / total liabilities                                                                                   |-->          |curr_assets_to_tot_liab_ratio           |\n",
    "|X51 short-term liabilities / total assets                                                                                |-->          |st_liab_to_tot_assets_ratio             |\n",
    "|X52 (short-term liabilities * 365) / cost of products sold)                                                              |-->          |ann_st_liab_to_cops_ratio               |\n",
    "|X53 equity / fixed assets                                                                                                |-->          |equ_to_fx_assets_ratio                  |\n",
    "|X54 constant capital / fixed assets                                                                                      |-->          |co_cap_to_fx_assets_ratio               |\n",
    "|X55 working capital                                                                                                      |-->          |work_cap                                |\n",
    "|X56 (sales - cost of products sold) / sales                                                                              |-->          |mod_cops_sales_to_sales_ratio           |\n",
    "|X57 (current assets - inventory - short-term liabilities) / (sales - gross profit - depreciation)                        |-->          |mod_curr_assets_to_mod_sales_ratio      |\n",
    "|X58 total costs /total sales                                                                                             |-->          |tot_costs_to_tot_sales_ratio            |\n",
    "|X59 long-term liabilities / equity                                                                                       |-->          |lt_liab_to_equ_ratio                    |\n",
    "|X60 sales / inventory                                                                                                    |-->          |sales_inven_ratio                       |\n",
    "|X61 sales / receivables                                                                                                  |-->          |sales_to_receiv_ratio                   |\n",
    "|X62 (short-term liabilities \\*365) / sales                                                                                |-->          |ann_st_liab_to_sales_ratio              |\n",
    "|X63 sales / short-term liabilities                                                                                       |-->          |sales_to_st_liab_ratio                  |\n",
    "|X64 sales / fixed assets                                                                                                 |-->          |sales_to_fx_assets_ratio                |\n",
    "|class                                                                                                                    |-->          |Class                                   |"
   ]
  },
  {
   "cell_type": "markdown",
   "id": "0ab80efe-f01c-475a-b3a2-c685a30fb2d9",
   "metadata": {},
   "source": [
    "## Import libraries {-}"
   ]
  },
  {
   "cell_type": "code",
   "execution_count": 1,
   "id": "b59bed32-1ac4-40a2-aee9-367fd5b5999c",
   "metadata": {},
   "outputs": [],
   "source": [
    "import pandas as pd\n",
    "import numpy as np\n",
    "import datetime as dt\n",
    "import matplotlib.pylab as plt\n",
    "from imblearn.over_sampling import SMOTE\n",
    "from scipy.io import arff\n",
    "from sklearn.ensemble import RandomForestClassifier\n",
    "from sklearn.feature_selection import VarianceThreshold\n",
    "from sklearn.impute import KNNImputer\n",
    "from sklearn.linear_model import LogisticRegression, LogisticRegressionCV, LinearRegression\n",
    "from sklearn.model_selection import train_test_split, GridSearchCV\n",
    "from sklearn.neural_network import MLPClassifier\n",
    "from sklearn.metrics import accuracy_score, r2_score, recall_score, precision_score, f1_score\n",
    "from sklearn.preprocessing import StandardScaler, MinMaxScaler, OneHotEncoder, OrdinalEncoder, LabelEncoder, PowerTransformer\n",
    "from sklearn.neighbors import NearestNeighbors, KNeighborsClassifier, KNeighborsRegressor\n",
    "from sklearn.tree import DecisionTreeRegressor, DecisionTreeClassifier\n",
    "import statsmodels.api as sm\n",
    "import statsmodels.tools.tools as stattools\n",
    "from geopy.distance import great_circle\n",
    "import dmba\n",
    "from dmba import classificationSummary, regressionSummary, gainsChart, liftChart, backward_elimination, stepwise_selection\n",
    "from dmba.metric import AIC_score, adjusted_r2_score\n",
    "\n",
    " # Turn off warnings (John D K, 2021)\n",
    "import warnings\n",
    "warnings.filterwarnings('ignore')\n",
    "\n",
    "%matplotlib inline"
   ]
  },
  {
   "cell_type": "markdown",
   "id": "1aff8815-b998-414c-941b-929719e19c2b",
   "metadata": {},
   "source": [
    "## 1. Data preprocessing {-}"
   ]
  },
  {
   "cell_type": "markdown",
   "id": "62265c3d-3f5c-416b-ab11-d25ada2da8b9",
   "metadata": {},
   "source": [
    "**Aaron TODO** \\\n",
    "- [X] Combine files? \\\n",
    "- [X] Rename columns \\\n",
    "- [X] Check for and deal w/ nulls \\\n",
    "- [X] Convert class to 0/1 \\\n",
    "- [X] Stratified train/test split \\\n",
    "- [X] Look for near zero variances \\\n",
    "- [X] create multiple df's: implement rebalancing \\\n",
    "- [ ] Emgineer any features? \\\n",
    "- [ ] Feature extraction/reduction?"
   ]
  },
  {
   "cell_type": "markdown",
   "id": "f86327db-8074-45cb-8b21-b3d131f67b8b",
   "metadata": {},
   "source": [
    "### Load data and display characteristics {-}"
   ]
  },
  {
   "cell_type": "code",
   "execution_count": null,
   "id": "7aac7258-6cc4-46e3-813c-1a888d32e6c3",
   "metadata": {},
   "outputs": [],
   "source": [
    "raw_arff01 = arff.loadarff(r'C:\\Users\\acarr\\Documents\\GitHub\\ads505_business_proj\\data\\Potential Data Sets\\Bankruptcy\\1year.arff')\n",
    "df01a = pd.DataFrame(raw_arff01[0])\n",
    "display(df01a.shape) # Display dimensions\n",
    "display(df01a.describe()) # Display simple descriptive stats\n",
    "display(df01a.head()) # Display first 5 rows\n",
    "display(df01a.info())\n",
    "\n",
    "raw_arff02 = arff.loadarff(r'C:\\Users\\acarr\\Documents\\GitHub\\ads505_business_proj\\data\\Potential Data Sets\\Bankruptcy\\2year.arff')\n",
    "df01b = pd.DataFrame(raw_arff02[0])\n",
    "display(df01b.shape) # Display dimensions\n",
    "display(df01b.describe()) # Display simple descriptive stats\n",
    "display(df01b.head()) # Display first 5 rows\n",
    "display(df01b.info())\n",
    "\n",
    "raw_arff03 = arff.loadarff(r'C:\\Users\\acarr\\Documents\\GitHub\\ads505_business_proj\\data\\Potential Data Sets\\Bankruptcy\\3year.arff')\n",
    "df01c = pd.DataFrame(raw_arff03[0])\n",
    "display(df01c.shape) # Display dimensions\n",
    "display(df01c.describe()) # Display simple descriptive stats\n",
    "display(df01c.head()) # Display first 5 rows\n",
    "display(df01c.info())\n",
    "\n",
    "raw_arff04 = arff.loadarff(r'C:\\Users\\acarr\\Documents\\GitHub\\ads505_business_proj\\data\\Potential Data Sets\\Bankruptcy\\4year.arff')\n",
    "df01d = pd.DataFrame(raw_arff04[0])\n",
    "display(df01d.shape) # Display dimensions\n",
    "display(df01d.describe()) # Display simple descriptive stats\n",
    "display(df01d.head()) # Display first 5 rows\n",
    "display(df01d.info())\n",
    "\n",
    "raw_arff05 = arff.loadarff(r'C:\\Users\\acarr\\Documents\\GitHub\\ads505_business_proj\\data\\Potential Data Sets\\Bankruptcy\\5year.arff')\n",
    "df01e = pd.DataFrame(raw_arff05[0])\n",
    "display(df01e.shape) # Display dimensions\n",
    "display(df01e.describe()) # Display simple descriptive stats\n",
    "display(df01e.head()) # Display first 5 rows\n",
    "display(df01e.info())"
   ]
  },
  {
   "cell_type": "markdown",
   "id": "b96edb4f-0a58-4494-ac3e-ef1052b2d1f4",
   "metadata": {},
   "source": [
    "### Merge df's {-}"
   ]
  },
  {
   "cell_type": "code",
   "execution_count": null,
   "id": "1084e839-2cab-44ab-9865-d9d87fc29d39",
   "metadata": {},
   "outputs": [],
   "source": [
    "df01 = pd.concat([df01a, df01b, df01c, df01d, df01e], axis=0)"
   ]
  },
  {
   "cell_type": "code",
   "execution_count": null,
   "id": "036b4f23-7570-4a6f-8bb5-d529319e4519",
   "metadata": {},
   "outputs": [],
   "source": [
    "xy01_lst01 = ['net_prof_to_tot_assets_ratio', \n",
    "'tot_liab_to_tot_assets_ratio', \n",
    "'work_cap_to_tot_assets_ratio', \n",
    "'curr_assets_to_st_liab_ratio', \n",
    "'equ_to_ann_ops_exp_ratio', \n",
    "'ret_earn_to_tot_assets_ratio', \n",
    "'ebit_to_tot_assets_ratio', \n",
    "'book_equ_to_tot_liab_ratio', \n",
    "'sales_to_tot_assets_ratio', \n",
    "'equ_to_tot_assets_ratio', \n",
    "'mod_ef_grss_prof_to_tot_assets_ratio', \n",
    "'grss_prof_to_st_liab_ratio', \n",
    "'mod_dep_grss_prof_to_sales_ratio', \n",
    "'mod_int_grss_prof_to_tot_assets_ratio', \n",
    "'ann_tot_liab_to_mod_grss_prof_ratio', \n",
    "'mod_dep_grss_prof_to_tot_liab_ratio', \n",
    "'tot_assets_to_tot_liab_ratio', \n",
    "'grss_prof_to_tot_assets_ratio', \n",
    "'grss_prof_to_sales_ratio', \n",
    "'ann_inven_to_sales_ratio', \n",
    "'sales_to_mod_sales_ratio', \n",
    "'ops_prof_to_tot_assets_ratio', \n",
    "'net_prof_to_sales_ratio', \n",
    "'grss_prof3_to_tot_assets_ratio', \n",
    "'mod_equ_to_tot_assets_ratio', \n",
    "'mod_dep_net_prof_to_tot_liab_ratio', \n",
    "'ops_prof_to_fin_exp_ratio', \n",
    "'work_cap_to_fx_assets_ratio', \n",
    "'tot_assets_log', \n",
    "'mod_csh_tot_liab_to_sales_ratio', \n",
    "'mod_int_grss_prof_to_sales_ratio', \n",
    "'ann_curr_liab_to_cops_ratio', \n",
    "'ops_exp_to_st_liab_ratio', \n",
    "'ops_exp_to_tot_liab_ratio', \n",
    "'sales_prof_to_tot_assets_ratio', \n",
    "'tot_sales_to_tot_assets_ratio', \n",
    "'mod_curr_assets_to_lt_liab_ratio', \n",
    "'co_cap_to_tot_assets_ratio', \n",
    "'sales_prof_to_sales_ratio', \n",
    "'mod_ir_curr_assets_to_st_liab_ratio', \n",
    "'tot_liab_to_mth_mod_ops_prof', \n",
    "'ops_prof_to_sales_ratio', \n",
    "'mod_rot_receiv', \n",
    "'ann_receiv_to_sales_ratio', \n",
    "'net_prof_to_inven_ratio', \n",
    "'mod_iven_curr_assets_to_st_liab_ratio', \n",
    "'ann_inven_to_cops_ratio', \n",
    "'ebitda_to_tot_assets_ratio', \n",
    "'ebitda_to_tot_sales_ratio', \n",
    "'curr_assets_to_tot_liab_ratio', \n",
    "'st_liab_to_tot_assets_ratio', \n",
    "'ann_st_liab_to_cops_ratio', \n",
    "'equ_to_fx_assets_ratio', \n",
    "'co_cap_to_fx_assets_ratio', \n",
    "'work_cap', \n",
    "'mod_cops_sales_to_sales_ratio', \n",
    "'mod_curr_assets_to_mod_sales_ratio', \n",
    "'tot_costs_to_tot_sales_ratio', \n",
    "'lt_liab_to_equ_ratio', \n",
    "'sales_inven_ratio', \n",
    "'sales_to_receiv_ratio', \n",
    "'ann_st_liab_to_sales_ratio', \n",
    "'sales_to_st_liab_ratio', \n",
    "'sales_to_fx_assets_ratio', \n",
    "'Class',]"
   ]
  },
  {
   "cell_type": "markdown",
   "id": "87ea30a3-5ed3-4f8b-a9d0-a5162fb97ad2",
   "metadata": {},
   "source": [
    "### Label Encode target feature values {-}"
   ]
  },
  {
   "cell_type": "code",
   "execution_count": null,
   "id": "07ce7d34-2c2b-474f-9b89-f0337eff36e3",
   "metadata": {},
   "outputs": [],
   "source": [
    "df01.columns = xy01_lst01\n",
    "df01_ohe_fit = LabelEncoder().fit(df01['Class'])\n",
    "df01['class_tx'] = df01_ohe_fit.transform(df01['Class'])\n",
    "\n",
    "print(f'{df01.head(3)}\\n{df01.shape}')\n",
    "display(df01.info())"
   ]
  },
  {
   "cell_type": "markdown",
   "id": "79b3911e-90e3-4185-880a-3ba75f96c047",
   "metadata": {},
   "source": [
    "### Display overall class percentages {-}"
   ]
  },
  {
   "cell_type": "code",
   "execution_count": null,
   "id": "75e21088-54b2-4b10-b012-80995c35520b",
   "metadata": {},
   "outputs": [],
   "source": [
    "# Calc proportions by class\n",
    "df01_y01_cnt = pd.value_counts(df01['class_tx'])\n",
    "df01_y01_cnt_df01 = pd.DataFrame(df01_y01_cnt)\n",
    "df01_y01_cnt_df01['class_percent'] = round((df01_y01_cnt_df01['class_tx'] / np.sum(df01_y01_cnt_df01['class_tx']))*100, 1)\n",
    "print(f'Full data set count and percent per class:\\n{df01_y01_cnt_df01}')"
   ]
  },
  {
   "cell_type": "markdown",
   "id": "4ebf2a27-1dcc-433f-bec6-c5ea84e1e8b9",
   "metadata": {},
   "source": [
    "### Create train/test split {-}"
   ]
  },
  {
   "cell_type": "code",
   "execution_count": null,
   "id": "f34c2460-0862-482c-a610-96c49dda5b02",
   "metadata": {},
   "outputs": [],
   "source": [
    "df02 = df01.copy()\n",
    "print(df02.columns)\n",
    "\n",
    "df02_xy01_lst01 = []\n",
    "\n",
    "df02_x01_dum_lst01 = []\n",
    "\n",
    "df02_x01_bin_lst01 = []\n",
    "\n",
    "df02_x01_num_lst01 = []\n",
    "\n",
    "df02_x01_drp_lst01 = ['Class',\n",
    "                      'class_tx']\n",
    "\n",
    "\n",
    "'''__________________________________________________________________________'''\n",
    "x01_df01 = df02.drop(df02_x01_drp_lst01, axis=1)\n",
    "\n",
    "y01_df01 = df02['class_tx']\n",
    "\n",
    "'''__________________________________________________________________________'''\n",
    "# Create train & test sets for X & Y (NOTE: stratification by y)\n",
    "train_x01_df01, test_x01_df01, \\\n",
    "train_y01_df01, test_y01_df01 = train_test_split(x01_df01,\n",
    "                                                 y01_df01,\n",
    "                                                 test_size=.3,\n",
    "                                                 random_state=1699,\n",
    "                                                 stratify=y01_df01)\n",
    "\n",
    "# Convert y df's to vector arrays\n",
    "train_y01_vc01 = train_y01_df01.to_numpy()\n",
    "test_y01_vc01 = test_y01_df01.to_numpy()\n",
    "\n",
    "# Display train, val, & test set df's\n",
    "print(f'\\nTraining X matrix dimensions = {train_x01_df01.shape}')\n",
    "print(f'Test X matrix dimensions = {test_x01_df01.shape}')\n",
    "\n",
    "print(f'\\nTraining y matrix dimensions = {train_y01_df01.shape}')\n",
    "print(f'Test y matrix dimensions = {test_y01_df01.shape}')"
   ]
  },
  {
   "cell_type": "markdown",
   "id": "22a58053-eedc-4c79-90a8-27d1a04dc4ba",
   "metadata": {},
   "source": [
    "### Check for and remove features with near zero variance {-}"
   ]
  },
  {
   "cell_type": "code",
   "execution_count": null,
   "id": "a2c4e600-0eb2-4355-aaa9-d1862cd75b17",
   "metadata": {},
   "outputs": [],
   "source": [
    "# Remove near-zero variance features\n",
    "train_x01_df01_nzv_fit = VarianceThreshold().fit(train_x01_df01)\n",
    "train_x02_tx_vc01 = train_x01_df01_nzv_fit.transform(train_x01_df01)\n",
    "\n",
    "train_x02_tx_df01 = pd.DataFrame(train_x02_tx_vc01,\n",
    "                                 columns=[train_x01_df01_nzv_fit.get_feature_names_out()])\n",
    "test_x02_tx_df01 = test_x01_df01[train_x01_df01_nzv_fit.get_feature_names_out()]\n",
    "\n",
    "print(f'Training X NZV transformed matrix dimensions = {train_x02_tx_df01.shape}')\n",
    "print(f'Test X NZV transformed matrix dimensions = {test_x02_tx_df01.shape}')\n",
    "\n",
    "print(f'\\n{train_x01_df01.shape[1] - train_x02_tx_df01.shape[1]} near zero variance features were eliminated')"
   ]
  },
  {
   "cell_type": "markdown",
   "id": "dda752b8-dbab-4901-94cc-e898dcf09840",
   "metadata": {},
   "source": [
    "## 2. Exploratory data analysis (EDA) {-}"
   ]
  },
  {
   "cell_type": "code",
   "execution_count": null,
   "id": "e1a5a629-db4d-4249-abe5-1530bb646e04",
   "metadata": {},
   "outputs": [],
   "source": [
    "print(f'{x01_df01.head(3)}\\n{x01_df01.shape}')\n",
    "print(f'\\n{y01_df01.head(3)}\\n{y01_df01.shape}')\n",
    "\n",
    "print(f'\\n{train_x02_tx_df01.head(3)}\\n{train_x02_tx_df01.shape}')\n",
    "print(f'\\n{train_y01_vc01[:3]}\\n{train_y01_vc01.shape}')"
   ]
  },
  {
   "cell_type": "markdown",
   "id": "64acfb8c-bce7-4421-ba46-72b81678ad4d",
   "metadata": {},
   "source": [
    "# @Uyen: EDA code starts here {-}"
   ]
  },
  {
   "cell_type": "code",
   "execution_count": null,
   "id": "9974b7ef-3687-4cdd-9ebe-681e87be806a",
   "metadata": {},
   "outputs": [],
   "source": []
  },
  {
   "cell_type": "markdown",
   "id": "204e3851-6c66-4b54-9212-d0ab3be5305f",
   "metadata": {},
   "source": [
    "### Additional preprocessing (post-EDA) {-}"
   ]
  },
  {
   "cell_type": "markdown",
   "id": "b8d686f9-45eb-4c6e-b41d-1ad8e07ae7ab",
   "metadata": {},
   "source": [
    "#### Display all training instances with null values {-}"
   ]
  },
  {
   "cell_type": "code",
   "execution_count": null,
   "id": "e2684284-3122-4cf1-8167-12171fa587ae",
   "metadata": {},
   "outputs": [],
   "source": [
    "print(train_x02_tx_df01.loc[train_x02_tx_df01.isnull().any(axis=1)])"
   ]
  },
  {
   "cell_type": "markdown",
   "id": "12605c4a-5261-4c1c-a86e-259f78b148dd",
   "metadata": {},
   "source": [
    "#### Remove features with high count of missing values {-}"
   ]
  },
  {
   "cell_type": "code",
   "execution_count": null,
   "id": "2d3173cf-51ea-4942-b412-2d2fb9868045",
   "metadata": {},
   "outputs": [],
   "source": [
    "# Remove any features for which the number of null vals exceed a threshold (15% of total N)\n",
    "train_x02_tx_df01_null_summ01 = pd.DataFrame(train_x02_tx_df01.isnull().sum(),\n",
    "                                             columns=['count'])\n",
    "display(train_x02_tx_df01_null_summ01)\n",
    "\n",
    "train_x02_tx_df01_null_summ02 = train_x02_tx_df01_null_summ01.loc[(train_x02_tx_df01_null_summ01['count'] != 0)].sort_values('count',\n",
    "                                                                                                                             ascending=False)\n",
    "train_x02_tx_df01_null_summ03 = train_x02_tx_df01_null_summ02.reset_index()\n",
    "print(train_x02_tx_df01_null_summ03)\n",
    "\n",
    "train_x02_tx_df01_null_summ04 = train_x02_tx_df01_null_summ03.loc[train_x02_tx_df01_null_summ03['count'] > (len(train_x02_tx_df01)*.15)]\n",
    "print(train_x02_tx_df01_null_summ04)\n",
    "\n",
    "train_x02_tx_df01_null_summ04_remove_lst01 = list(train_x02_tx_df01_null_summ04['level_0'])\n",
    "print(train_x02_tx_df01_null_summ04_remove_lst01)\n",
    "\n",
    "train_x03_tx_df01 = train_x02_tx_df01.drop(train_x02_tx_df01_null_summ04_remove_lst01, axis=1)\n",
    "test_x03_tx_df01 = test_x02_tx_df01.drop(train_x02_tx_df01_null_summ04_remove_lst01, axis=1)\n",
    "\n",
    "print(f'\\n{train_x03_tx_df01.head(3)}\\n{train_x03_tx_df01.shape}')\n",
    "print(f'\\n{test_x03_tx_df01.head(3)}\\n{test_x03_tx_df01.shape}')"
   ]
  },
  {
   "cell_type": "markdown",
   "id": "ea40200f-23aa-4fa3-92c0-c1545efde3ca",
   "metadata": {},
   "source": [
    "#### Impute missing values {-}"
   ]
  },
  {
   "cell_type": "code",
   "execution_count": null,
   "id": "9b368c96-fe63-41b0-be85-92ab7630fd7b",
   "metadata": {},
   "outputs": [],
   "source": [
    "# Implement KNN Imputer for remaining missing vals\n",
    "train_x03_tx_df01_kni_fit = KNNImputer().fit(train_x03_tx_df01)\n",
    "train_x03_tx_vc02 = train_x03_tx_df01_kni_fit.transform(train_x03_tx_df01)\n",
    "test_x03_tx_vc02 = train_x03_tx_df01_kni_fit.transform(test_x03_tx_df01)\n",
    "\n",
    "train_x03_tx_df02 = pd.DataFrame(train_x03_tx_vc02,\n",
    "                                 columns=train_x03_tx_df01.columns)\n",
    "test_x03_tx_df02 = pd.DataFrame(test_x03_tx_vc02,\n",
    "                                columns=train_x03_tx_df01.columns)\n",
    "\n",
    "train_x03_tx_df02_null_summ01 = pd.DataFrame(train_x03_tx_df02.isnull().sum(), columns=['count'])\n",
    "\n",
    "display(train_x03_tx_df02_null_summ01.loc[(train_x03_tx_df02_null_summ01['count'] != 0)])"
   ]
  },
  {
   "cell_type": "markdown",
   "id": "4a6c01b1-7c36-4c2d-8280-7d9d47d345ab",
   "metadata": {},
   "source": [
    "#### Scale X values {-}"
   ]
  },
  {
   "cell_type": "code",
   "execution_count": null,
   "id": "f806175e-c3ce-4e40-80e7-c751c2ebaadc",
   "metadata": {},
   "outputs": [],
   "source": [
    "# Scale vals in 2 ways: z-score & min-max\n",
    "train_x03_tx_df02_sts_fit = StandardScaler().fit(train_x03_tx_df02)\n",
    "train_x03_tx_vc03 = train_x03_tx_df02_sts_fit.transform(train_x03_tx_df02)\n",
    "test_x03_tx_vc03 = train_x03_tx_df02_sts_fit.transform(test_x03_tx_df02)\n",
    "\n",
    "train_x03_tx_df03 = pd.DataFrame(train_x03_tx_vc03,\n",
    "                                 columns=train_x03_tx_df01.columns)\n",
    "test_x03_tx_df03 = pd.DataFrame(test_x03_tx_vc03,\n",
    "                                columns=train_x03_tx_df01.columns)\n",
    "\n",
    "print(f'{train_x03_tx_df03.shape}')\n",
    "print(f'{test_x03_tx_df03.shape}')\n",
    "\n",
    "'''__________________________________________________________________________'''\n",
    "train_x03_tx_df02_mms_fit = MinMaxScaler().fit(train_x03_tx_df02)\n",
    "train_x03_tx_vc04 = train_x03_tx_df02_mms_fit.transform(train_x03_tx_df02)\n",
    "test_x03_tx_vc04 = train_x03_tx_df02_mms_fit.transform(test_x03_tx_df02)\n",
    "\n",
    "train_x03_tx_df04 = pd.DataFrame(train_x03_tx_vc04,\n",
    "                                 columns=train_x03_tx_df01.columns)\n",
    "test_x03_tx_df04 = pd.DataFrame(test_x03_tx_vc04,\n",
    "                                columns=train_x03_tx_df01.columns)\n",
    "\n",
    "print(f'\\n{train_x03_tx_df04.shape}')\n",
    "print(f'{test_x03_tx_df04.shape}')"
   ]
  },
  {
   "cell_type": "markdown",
   "id": "c9937352-a6d9-4926-924e-2b322d00bc74",
   "metadata": {},
   "source": [
    "#### Check for and mitigate skew {-}"
   ]
  },
  {
   "cell_type": "code",
   "execution_count": null,
   "id": "4e44c63a-e558-4d77-8728-b07e8ea1963a",
   "metadata": {},
   "outputs": [],
   "source": [
    "train_x03_tx_df02_skw = train_x03_tx_df02.skew(axis=1, skipna=True)\n",
    "print(train_x03_tx_df02_skw)\n",
    "\n",
    "train_x03_tx_df02_sts_fit"
   ]
  },
  {
   "cell_type": "markdown",
   "id": "3607c4ff-bcf3-4ace-816b-fc0ee42c50ec",
   "metadata": {},
   "source": [
    "#### Apply rebalancing technique (SMOTE) {-}"
   ]
  },
  {
   "cell_type": "code",
   "execution_count": null,
   "id": "559ff9cd-843e-428b-9750-fb2ffee71679",
   "metadata": {},
   "outputs": [],
   "source": [
    "# Apply SMOTE to address class imbalance-on training set only (Geeks for Geeks, 2022)\n",
    "smote_txr = SMOTE(random_state=1699)\n",
    "train_x03_tx_df03a, train_y01_vc01a = smote_txr.fit_sample(train_x03_tx_df03,\n",
    "                                                           train_y01_vc01)\n",
    "\n",
    "print(f'{train_x03_tx_df03.shape}')\n",
    "print(f'{train_x03_tx_df03a.head(3)}\\n{train_x03_tx_df03a.shape}')\n",
    "print(f'{train_y01_vc01a[:7]}\\n{train_y01_vc01a.shape}')\n",
    "\n",
    "'''__________________________________________________________________________'''\n",
    "train_x03_tx_df04a, train_y01_vc01b = smote_txr.fit_sample(train_x03_tx_df04,\n",
    "                                                           train_y01_vc01)\n",
    "\n",
    "print(f'{train_x03_tx_df04.shape}')\n",
    "print(f'{train_x03_tx_df04a.head(3)}\\n{train_x03_tx_df04a.shape}')\n",
    "print(f'{train_y01_vc01b[:7]}\\n{train_y01_vc01b.shape}')\n",
    "\n",
    "'''__________________________________________________________________________'''\n"
   ]
  },
  {
   "cell_type": "markdown",
   "id": "bb3f6593-2b30-4ac7-a213-e04dcffdfbe1",
   "metadata": {},
   "source": [
    "## 3. Modeling {-}"
   ]
  },
  {
   "cell_type": "markdown",
   "id": "eb0a39f0-6111-4157-aebf-4437d56337d4",
   "metadata": {},
   "source": [
    "### **Data Frame Map** \\\n",
    "|Feature Set (X / Y)   |Data Frame Name                   |Comments                                                |\n",
    "|----------------------|----------------------------------|--------------------------------------------------------|\n",
    "|1                     |x01_df01                          |full X data set, no transformations                     |\n",
    "|2a                    |train_x01_df01                    |train X, no transformations                             |\n",
    "|2b                    |test_x01_df01                     |test X, no transformations                              |\n",
    "|3a                    |train_x02_tx_df01                 |train X, near zero variance features (if any) removed   |\n",
    "|3b                    |test_x02_tx_df01                  |test X, near zero variance features (if any) removed    |\n",
    "|4a                    |train_x03_tx_df01                 |train X, #3a + remove features w/ null count > N*.15    |\n",
    "|4b                    |test_x03_tx_df01                  |test X, #3b + remove features w/ null count > N*.15     |\n",
    "|5a                    |train_x03_tx_df02                 |train X, #4a + missing values imputed                   |\n",
    "|5b                    |test_x03_tx_df02                  |test X, #4b + missing values imputed                    |\n",
    "|6a                    |train_x03_tx_df03                 |train X, #5a + *z*-score scaling                        |\n",
    "|6b                    |test_x03_tx_df03                  |test X, #5b + *z*-score scaling                         |\n",
    "|7a                    |train_x03_tx_df04                 |train X, #5a + min-max scaling                          |\n",
    "|7b                    |test_x03_tx_df04                  |test X, #5b + min-max scaling                           |\n",
    "|8a                    |train_x03_tx_df05 (IN PROCESS)    |train X, #5a + skew transformation                      |\n",
    "|8b                    |test_x03_tx_df05 (IN PROCESS)     |test X, #5b + skew transformation                       |\n",
    "|6c                    |train_x03_tx_df03a                |train X, #6a + SMOTE rebalancing                        |\n",
    "|7c                    |train_x03_tx_df04a                |train X, #7a + SMOTE rebalancing                        |\n",
    "|8c                    |train_x03_tx_df05a (IN PROCESS)   |train X, #8a + SMOTE rebalancing                        |\n",
    "|9                     |y01_df01                          |full Y data set, no transformations                     |\n",
    "|10a                   |train_y01_vc01                    |train Y, no transformations                             |\n",
    "|10b                   |test_y01_vc01                     |test Y, no transformations                              |\n",
    "|10c                   |train_y01_vc01a                   |train Y, #6a/#10a + SMOTE rebalancing                   |\n",
    "|10d                   |train_y01_vc01b                   |train Y, #7a/#10a + SMOTE rebalancing                   |\n",
    "|10e                   |train_y01_vc01c (IN PROCESS)      |train Y, #8a/#10a + SMOTE rebalancing                   |"
   ]
  },
  {
   "cell_type": "code",
   "execution_count": null,
   "id": "609bac3a-850b-49dc-8ac4-0ac0316fc20c",
   "metadata": {},
   "outputs": [],
   "source": []
  },
  {
   "cell_type": "markdown",
   "id": "ca6dc733-6c18-4b68-b490-9f0d8634dca1",
   "metadata": {},
   "source": [
    "## 4. Evaluation {-}"
   ]
  },
  {
   "cell_type": "code",
   "execution_count": null,
   "id": "dc0823a0-582b-4368-98ac-319a2ff88897",
   "metadata": {},
   "outputs": [],
   "source": []
  },
  {
   "cell_type": "markdown",
   "id": "520183f7-c95d-4ae0-b939-27ce5daf889b",
   "metadata": {},
   "source": [
    "### Final model {-}"
   ]
  },
  {
   "cell_type": "code",
   "execution_count": null,
   "id": "28dac855-44ee-4173-9b61-ff9058c531ea",
   "metadata": {},
   "outputs": [],
   "source": []
  },
  {
   "cell_type": "markdown",
   "id": "65acf91d-b5db-46c7-9dec-727bffd8f7b1",
   "metadata": {},
   "source": [
    "# References {-}"
   ]
  },
  {
   "cell_type": "markdown",
   "id": "39438e6f-e328-4fae-a0c1-6ae126d904dd",
   "metadata": {},
   "source": [
    "* Satopay, H. (2018, November 18). The ultimate markdown guide (for Jupyter Notebook). *Medium* https://medium.com/analytics-vidhya/the-ultimate-markdown-guide-for-jupyter-notebook-d5e5abf728fd \\\n",
    "* Zięba, M., Tomczak, S. K., & Tomczak, J. M. (2016). Ensemble boosted trees with synthetic features generation in application to bankruptcy prediction. *Expert Systems with Applications*, *58*, 93-101. https://doi.org/10.1016/j.eswa.2016.04.001."
   ]
  }
 ],
 "metadata": {
  "kernelspec": {
   "display_name": "Python 3 (ipykernel)",
   "language": "python",
   "name": "python3"
  },
  "language_info": {
   "codemirror_mode": {
    "name": "ipython",
    "version": 3
   },
   "file_extension": ".py",
   "mimetype": "text/x-python",
   "name": "python",
   "nbconvert_exporter": "python",
   "pygments_lexer": "ipython3",
   "version": "3.7.11"
  }
 },
 "nbformat": 4,
 "nbformat_minor": 5
}
